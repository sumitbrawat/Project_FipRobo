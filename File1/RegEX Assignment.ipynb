{
 "cells": [
  {
   "cell_type": "code",
   "execution_count": null,
   "metadata": {},
   "outputs": [],
   "source": [
    "#Q1. Write a RegEx pattern in python program to check that a string containsonly a certain set of characters (in this case a-z, A-Z and 0-9).\n",
    "\n",
    "import re\n",
    "text = input(\"Enter a string\")\n",
    "pattern = \"^[A-Za-z0-9]*$\"\n",
    "state = bool(re.match(pattern, text))\n",
    "print(state)\n",
    "if state == True :\n",
    "    print(\"String satisfies the criteria\")\n",
    "else:\n",
    "    print(\"String does not satisfies the criteria\")"
   ]
  },
  {
   "cell_type": "code",
   "execution_count": 21,
   "metadata": {},
   "outputs": [
    {
     "name": "stdout",
     "output_type": "stream",
     "text": [
      "Enter a stringad\n",
      "True\n",
      "String satisfies the criteria\n"
     ]
    }
   ],
   "source": [
    "#Question 2- Write a RegEx pattern that matches a string that has an a followed by zero or more b's\n",
    "\n",
    "import re\n",
    "text = input(\"Enter a string\")\n",
    "pattern = \"ab*$\"\n",
    "state = bool(re.match(pattern, text))\n",
    "print(state)\n",
    "if state == True :\n",
    "    print(\"String satisfies the criteria\")\n",
    "else:\n",
    "    print(\"String does not satisfies the criteria\")"
   ]
  },
  {
   "cell_type": "code",
   "execution_count": 22,
   "metadata": {},
   "outputs": [
    {
     "name": "stdout",
     "output_type": "stream",
     "text": [
      "Enter a stringacd\n",
      "False\n",
      "String does not satisfies the criteria\n"
     ]
    }
   ],
   "source": [
    "#Question 3-  Write a RegEx pattern that matches a string that has an a followed by one or more b's\n",
    "\n",
    "import re\n",
    "text = input(\"Enter a string\")\n",
    "pattern = \"ab+$\"\n",
    "state = bool(re.match(pattern, text))\n",
    "print(state)\n",
    "if state == True :\n",
    "    print(\"String satisfies the criteria\")\n",
    "else:\n",
    "    print(\"String does not satisfies the criteria\")"
   ]
  },
  {
   "cell_type": "code",
   "execution_count": 24,
   "metadata": {},
   "outputs": [
    {
     "name": "stdout",
     "output_type": "stream",
     "text": [
      "Enter a stringabc\n",
      "False\n",
      "String does not satisfies the criteria\n"
     ]
    }
   ],
   "source": [
    "#Question 4- Write a RegEx pattern that matches a string that has an a followed by zero or one 'b'.\n",
    "\n",
    "import re\n",
    "text = input(\"Enter a string\")\n",
    "pattern = \"ab?$\"\n",
    "state = bool(re.match(pattern, text))\n",
    "print(state)\n",
    "if state == True :\n",
    "    print(\"String satisfies the criteria\")\n",
    "else:\n",
    "    print(\"String does not satisfies the criteria\")"
   ]
  },
  {
   "cell_type": "code",
   "execution_count": 27,
   "metadata": {},
   "outputs": [
    {
     "name": "stdout",
     "output_type": "stream",
     "text": [
      "Enter a stringabbb\n",
      "True\n",
      "String satisfies the criteria\n"
     ]
    }
   ],
   "source": [
    "#Question 5- Write a RegEx pattern in python program that matches a string that has an a followed by three 'b'.\n",
    "\n",
    "import re\n",
    "text = input(\"Enter a string\")\n",
    "pattern = \"ab{3}$\"\n",
    "state = bool(re.match(pattern, text))\n",
    "print(state)\n",
    "if state == True :\n",
    "    print(\"String satisfies the criteria\")\n",
    "else:\n",
    "    print(\"String does not satisfies the criteria\")"
   ]
  },
  {
   "cell_type": "code",
   "execution_count": 30,
   "metadata": {},
   "outputs": [
    {
     "name": "stdout",
     "output_type": "stream",
     "text": [
      "Enter a stringabbbbb\n",
      "False\n",
      "String does not satisfies the criteria\n"
     ]
    }
   ],
   "source": [
    "#Question 6- Write a RegEx pattern in python program that matches a string that has an a followed by two to three 'b'\n",
    "\n",
    "import re\n",
    "text = input(\"Enter a string\")\n",
    "pattern = \"ab{2,3}$\"\n",
    "state = bool(re.match(pattern, text))\n",
    "print(state)\n",
    "if state == True :\n",
    "    print(\"String satisfies the criteria\")\n",
    "else:\n",
    "    print(\"String does not satisfies the criteria\")"
   ]
  },
  {
   "cell_type": "code",
   "execution_count": 32,
   "metadata": {},
   "outputs": [
    {
     "name": "stdout",
     "output_type": "stream",
     "text": [
      "Enter a stringan5 +_)(*&^%$%#@!~?><:''{|\\\\b\n",
      "True\n",
      "String satisfies the criteria\n"
     ]
    }
   ],
   "source": [
    "#Question 7- Write a Python program that matches a string that has an 'a' followed by anything, ending in 'b'\n",
    "\n",
    "#check string : an5 +_)(*&^%$%#@!~?><:''{|\\\\b\n",
    "\n",
    "import re\n",
    "text = input(\"Enter a string\")\n",
    "pattern = \"a.*b$\"\n",
    "state = bool(re.match(pattern, text))\n",
    "print(state)\n",
    "if state == True :\n",
    "    print(\"String satisfies the criteria\")\n",
    "else:\n",
    "    print(\"String does not satisfies the criteria\")"
   ]
  },
  {
   "cell_type": "code",
   "execution_count": 43,
   "metadata": {},
   "outputs": [
    {
     "name": "stdout",
     "output_type": "stream",
     "text": [
      "Enter a stringHow are you\n",
      "True\n",
      "String satisfies the criteria\n"
     ]
    }
   ],
   "source": [
    "#Question 8- Write a RegEx pattern in python program that matches a word at the beginning of a string.\n",
    "\n",
    "#check string1 : How are you?\n",
    "#check string2 : _How are you?\n",
    "\n",
    "#Notes : Word in regex means characters from a to Z, digits from 0-9, and the underscore _ character) and is represneted by \\w\n",
    "\n",
    "import re\n",
    "text = input(\"Enter a string\")\n",
    "pattern = \"^\\w+\"\n",
    "state = bool(re.match(pattern, text))\n",
    "print(state)\n",
    "if state == True :\n",
    "    print(\"String satisfies the criteria\")\n",
    "else:\n",
    "    print(\"String does not satisfies the criteria\")"
   ]
  },
  {
   "cell_type": "code",
   "execution_count": 51,
   "metadata": {},
   "outputs": [
    {
     "name": "stdout",
     "output_type": "stream",
     "text": [
      "Enter a stringHow are you?\n",
      "False\n",
      "String does not satisfies the criteria\n"
     ]
    }
   ],
   "source": [
    "#Question 9- Write a RegEx pattern in python program that matches a word at the end of a string.\n",
    "\n",
    "#check string1 : How are you\n",
    "#check string2 : How are you_\n",
    "#check string2 : How are you?\n",
    "\n",
    "import re\n",
    "text = input(\"Enter a string\")\n",
    "pattern = \".*\\w+$\"\n",
    "state = bool(re.match(pattern, text))\n",
    "print(state)\n",
    "if state == True :\n",
    "    print(\"String satisfies the criteria\")\n",
    "else:\n",
    "    print(\"String does not satisfies the criteria\")"
   ]
  },
  {
   "cell_type": "code",
   "execution_count": 59,
   "metadata": {},
   "outputs": [
    {
     "name": "stdout",
     "output_type": "stream",
     "text": [
      "['0132', '1458', '2725']\n"
     ]
    }
   ],
   "source": [
    "#Question 10- Write a RegEx pattern in python program to find all words that are 4 digits long in a string.\n",
    "#Sample text- '01 0132 231875 1458 301 2725.'\n",
    "#Expected output- ['0132', '1458', '2725']\n",
    "\n",
    "\n",
    "#solution logic : https://www.freecodecamp.org/news/what-does-b-in-regex-mean-word-boundary-and-non-word-boundary-metacharacters/#:~:text=(%20%5Cw%20).-,How%20to%20Use%20the%20%E2%80%9CB%E2%80%9D%20Metacharacter%20in%20RegEx,things%20as%20they%20are%20opposites.\n",
    "# if we are using \\b and \\B then raw text [r] is mandatory in the regex\n",
    "\n",
    "import re\n",
    "text = '01 0132 231875 1458 301 2725.'\n",
    "pattern = r\"\\b\\w{4}\\b\"\n",
    "state = re.findall(pattern, text)\n",
    "print(state)\n",
    "\n",
    "\n"
   ]
  },
  {
   "cell_type": "code",
   "execution_count": null,
   "metadata": {},
   "outputs": [],
   "source": []
  }
 ],
 "metadata": {
  "kernelspec": {
   "display_name": "Python 3",
   "language": "python",
   "name": "python3"
  },
  "language_info": {
   "codemirror_mode": {
    "name": "ipython",
    "version": 3
   },
   "file_extension": ".py",
   "mimetype": "text/x-python",
   "name": "python",
   "nbconvert_exporter": "python",
   "pygments_lexer": "ipython3",
   "version": "3.8.5"
  }
 },
 "nbformat": 4,
 "nbformat_minor": 4
}
